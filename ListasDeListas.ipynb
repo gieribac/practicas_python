{
  "nbformat": 4,
  "nbformat_minor": 0,
  "metadata": {
    "colab": {
      "name": "ListasDeListas.ipynb",
      "provenance": [],
      "toc_visible": true,
      "authorship_tag": "ABX9TyPhFh/DbpXOmsXwuAcqppju",
      "include_colab_link": true
    },
    "kernelspec": {
      "name": "python3",
      "display_name": "Python 3"
    },
    "language_info": {
      "name": "python"
    }
  },
  "cells": [
    {
      "cell_type": "markdown",
      "metadata": {
        "id": "view-in-github",
        "colab_type": "text"
      },
      "source": [
        "<a href=\"https://colab.research.google.com/github/gieribac/practicas_python/blob/main/ListasDeListas.ipynb\" target=\"_parent\"><img src=\"https://colab.research.google.com/assets/colab-badge.svg\" alt=\"Open In Colab\"/></a>"
      ]
    },
    {
      "cell_type": "code",
      "metadata": {
        "colab": {
          "base_uri": "https://localhost:8080/"
        },
        "id": "FSQr5a2ISPl2",
        "outputId": "4935d390-23bd-4318-96da-d19e4ce0d896"
      },
      "source": [
        "n=int(input('ingresar la cantidad de estudiantes a almacenar: '))\n",
        "estudiantes=[]\n",
        "for i in range(n):\n",
        "  estudiante=[]\n",
        "  nombre=input('Ingrese el nombre del estudiante: ')\n",
        "  telefono=input('Ingrese el teléfono del estudiante: ')\n",
        "  grupo=input('ingrese a qué grupo pertenece el estudiante: ')\n",
        "  estudiante.append(nombre)\n",
        "  estudiante.append(telefono)\n",
        "  estudiante.append(grupo)\n",
        "  estudiante.append(telefono)\n",
        "  estudiantes.append(estudiante)\n",
        "print(estudiantes)"
      ],
      "execution_count": null,
      "outputs": [
        {
          "output_type": "stream",
          "text": [
            "ingresar la cantidad de estudiantes a almacenar: 2\n",
            "Ingrese el nombre del estudiante: g\n",
            "Ingrese el teléfono del estudiante: 124\n",
            "ingrese a qué grupo pertenece el estudiante: 12\n",
            "Ingrese el nombre del estudiante: e\n",
            "Ingrese el teléfono del estudiante: 124\n",
            "ingrese a qué grupo pertenece el estudiante: 13\n",
            "[['g', '124', '12', '124'], ['e', '124', '13', '124']]\n"
          ],
          "name": "stdout"
        }
      ]
    },
    {
      "cell_type": "markdown",
      "source": [
        "# Nueva sección"
      ],
      "metadata": {
        "id": "ThzGOE5wCxyw"
      }
    },
    {
      "cell_type": "markdown",
      "metadata": {
        "id": "kD_oJ8UTjHoy"
      },
      "source": [
        "**## dasdasdas**dfdsfsd\n",
        "<div style=\"font-size: 12pt; color: fuchsia\">Ella</div>\n",
        "\n",
        "---\n",
        "\n",
        "\n",
        "\n",
        "---\n",
        "\n",
        "\n",
        "\n"
      ]
    },
    {
      "cell_type": "code",
      "metadata": {
        "colab": {
          "base_uri": "https://localhost:8080/"
        },
        "id": "RvSYjW6IqVmk",
        "outputId": "577057ba-ecff-4cc6-a6ba-8d7e34c8c2d0"
      },
      "source": [
        "list(range(10, 5,-1))"
      ],
      "execution_count": null,
      "outputs": [
        {
          "output_type": "execute_result",
          "data": {
            "text/plain": [
              "[10, 9, 8, 7, 6]"
            ]
          },
          "metadata": {
            "tags": []
          },
          "execution_count": 4
        }
      ]
    },
    {
      "cell_type": "code",
      "metadata": {
        "colab": {
          "base_uri": "https://localhost:8080/",
          "height": 495
        },
        "id": "8X6urH63tmG6",
        "outputId": "2c6b4da4-4e03-4dee-a595-7266d8957e39"
      },
      "source": [
        "def ordenamientoBurbuja(unaLista):\n",
        "    for i in range(len(unaLista)):\n",
        "        for j in range(len(unaLista)):\n",
        "            if unaLista[i]<unaLista[j]:\n",
        "                unalista[i], unalista[j]=unalista[j], unalista[i]\n",
        "\n",
        "no_students=int(input('Ingresar la cantidad de  estudiantes: '))\n",
        "t_students=[]\n",
        "for k in range(1,no_students+1):\n",
        "    student=[]\n",
        "    print(f'Estudiantes {k}: ')\n",
        "    name=input(f'Ingrese el nombre del estudiante {k}: ')\n",
        "    age=int(input(f'Ingresar la edad del  estudiante {k}: '))\n",
        "    student.append(name)\n",
        "    student.append(age)\n",
        "    t_students.append(student)\n",
        "print(t_students)\n",
        "\n",
        "t_students_p=ordenamientoBurbuja(t_students)\n",
        "print(t_students_p)\n",
        "\n",
        "\n",
        "\n",
        "\n",
        "\n"
      ],
      "execution_count": null,
      "outputs": [
        {
          "output_type": "stream",
          "text": [
            "Ingresar la cantidad de  estudiantes: 2\n",
            "Estudiantes 1: \n",
            "Ingrese el nombre del estudiante 1: g\n",
            "Ingresar la edad del  estudiante 1: 4\n",
            "Estudiantes 2: \n",
            "Ingrese el nombre del estudiante 2: t\n",
            "Ingresar la edad del  estudiante 2: 5\n",
            "[['g', 4], ['t', 5]]\n"
          ],
          "name": "stdout"
        },
        {
          "output_type": "error",
          "ename": "NameError",
          "evalue": "ignored",
          "traceback": [
            "\u001b[0;31m---------------------------------------------------------------------------\u001b[0m",
            "\u001b[0;31mNameError\u001b[0m                                 Traceback (most recent call last)",
            "\u001b[0;32m<ipython-input-2-808e10d2d242>\u001b[0m in \u001b[0;36m<module>\u001b[0;34m()\u001b[0m\n\u001b[1;32m     17\u001b[0m \u001b[0mprint\u001b[0m\u001b[0;34m(\u001b[0m\u001b[0mt_students\u001b[0m\u001b[0;34m)\u001b[0m\u001b[0;34m\u001b[0m\u001b[0;34m\u001b[0m\u001b[0m\n\u001b[1;32m     18\u001b[0m \u001b[0;34m\u001b[0m\u001b[0m\n\u001b[0;32m---> 19\u001b[0;31m \u001b[0mt_students_p\u001b[0m\u001b[0;34m=\u001b[0m\u001b[0mordenamientoBurbuja\u001b[0m\u001b[0;34m(\u001b[0m\u001b[0mt_students\u001b[0m\u001b[0;34m)\u001b[0m\u001b[0;34m\u001b[0m\u001b[0;34m\u001b[0m\u001b[0m\n\u001b[0m\u001b[1;32m     20\u001b[0m \u001b[0mprint\u001b[0m\u001b[0;34m(\u001b[0m\u001b[0mt_students_p\u001b[0m\u001b[0;34m)\u001b[0m\u001b[0;34m\u001b[0m\u001b[0;34m\u001b[0m\u001b[0m\n\u001b[1;32m     21\u001b[0m \u001b[0;34m\u001b[0m\u001b[0m\n",
            "\u001b[0;32m<ipython-input-2-808e10d2d242>\u001b[0m in \u001b[0;36mordenamientoBurbuja\u001b[0;34m(unaLista)\u001b[0m\n\u001b[1;32m      3\u001b[0m         \u001b[0;32mfor\u001b[0m \u001b[0mj\u001b[0m \u001b[0;32min\u001b[0m \u001b[0mrange\u001b[0m\u001b[0;34m(\u001b[0m\u001b[0mlen\u001b[0m\u001b[0;34m(\u001b[0m\u001b[0munaLista\u001b[0m\u001b[0;34m)\u001b[0m\u001b[0;34m)\u001b[0m\u001b[0;34m:\u001b[0m\u001b[0;34m\u001b[0m\u001b[0;34m\u001b[0m\u001b[0m\n\u001b[1;32m      4\u001b[0m             \u001b[0;32mif\u001b[0m \u001b[0munaLista\u001b[0m\u001b[0;34m[\u001b[0m\u001b[0mi\u001b[0m\u001b[0;34m]\u001b[0m\u001b[0;34m<\u001b[0m\u001b[0munaLista\u001b[0m\u001b[0;34m[\u001b[0m\u001b[0mj\u001b[0m\u001b[0;34m]\u001b[0m\u001b[0;34m:\u001b[0m\u001b[0;34m\u001b[0m\u001b[0;34m\u001b[0m\u001b[0m\n\u001b[0;32m----> 5\u001b[0;31m                 \u001b[0munalista\u001b[0m\u001b[0;34m[\u001b[0m\u001b[0mi\u001b[0m\u001b[0;34m]\u001b[0m\u001b[0;34m,\u001b[0m \u001b[0munalista\u001b[0m\u001b[0;34m[\u001b[0m\u001b[0mj\u001b[0m\u001b[0;34m]\u001b[0m\u001b[0;34m=\u001b[0m\u001b[0munalista\u001b[0m\u001b[0;34m[\u001b[0m\u001b[0mj\u001b[0m\u001b[0;34m]\u001b[0m\u001b[0;34m,\u001b[0m \u001b[0munalista\u001b[0m\u001b[0;34m[\u001b[0m\u001b[0mi\u001b[0m\u001b[0;34m]\u001b[0m\u001b[0;34m\u001b[0m\u001b[0;34m\u001b[0m\u001b[0m\n\u001b[0m\u001b[1;32m      6\u001b[0m \u001b[0;34m\u001b[0m\u001b[0m\n\u001b[1;32m      7\u001b[0m \u001b[0mno_students\u001b[0m\u001b[0;34m=\u001b[0m\u001b[0mint\u001b[0m\u001b[0;34m(\u001b[0m\u001b[0minput\u001b[0m\u001b[0;34m(\u001b[0m\u001b[0;34m'Ingresar la cantidad de  estudiantes: '\u001b[0m\u001b[0;34m)\u001b[0m\u001b[0;34m)\u001b[0m\u001b[0;34m\u001b[0m\u001b[0;34m\u001b[0m\u001b[0m\n",
            "\u001b[0;31mNameError\u001b[0m: name 'unalista' is not defined"
          ]
        }
      ]
    },
    {
      "cell_type": "code",
      "metadata": {
        "colab": {
          "base_uri": "https://localhost:8080/"
        },
        "id": "JJ2LlkqdjbhY",
        "outputId": "dc24b3c9-7876-4867-f3fa-9487a4d8c2d0"
      },
      "source": [
        "estudiantes=[]\n",
        "for i in range(2): #cantidad de sublistas\n",
        "  estudiantes.append([]) \n",
        "  for j in range(3): #cantidad de objetos en cada sublista* \n",
        "    nombre=input('ingrese el nombre del estudiante: ')\n",
        "    telefono=input('ingrese el telefono del estudiante: ')\n",
        "    estudiantes[i].append(nombre)\n",
        "    estudiantes[i].append(telefono)\n",
        "\n",
        "\n",
        "\n",
        "print(estudiantes)"
      ],
      "execution_count": null,
      "outputs": [
        {
          "output_type": "stream",
          "text": [
            "ingrese el nombre del estudiante: gg\n",
            "ingrese el telefono del estudiante: 354\n",
            "ingrese el nombre del estudiante: ee\n",
            "ingrese el telefono del estudiante: 354\n",
            "ingrese el nombre del estudiante: er\n",
            "ingrese el telefono del estudiante: 243\n",
            "ingrese el nombre del estudiante: fe\n",
            "ingrese el telefono del estudiante: 3454\n",
            "ingrese el nombre del estudiante: qwe\n",
            "ingrese el telefono del estudiante: 2124\n",
            "ingrese el nombre del estudiante: qwew\n",
            "ingrese el telefono del estudiante: 33\n",
            "[['gg', '354', 'ee', '354', 'er', '243'], ['fe', '3454', 'qwe', '2124', 'qwew', '33']]\n"
          ],
          "name": "stdout"
        }
      ]
    },
    {
      "cell_type": "code",
      "metadata": {
        "colab": {
          "base_uri": "https://localhost:8080/"
        },
        "id": "G31IfN7cmJgb",
        "outputId": "3c90c378-02c1-4660-c036-6d92c6299266"
      },
      "source": [
        "\"\"\"lista de estudiantes con notas, salida de lista de reporte con promedio\"\"\"\n",
        "est=int(input('ingresar la cantidad de estudiantes a almacenar: '))\n",
        "nots=int(input('ingresar la cantidad de notas a relacionar: '))\n",
        "estudiantes=[]\n",
        "for i in range(est): #cantidad de sublistas (estudiantes)\n",
        "  estudiante=[] \n",
        "  estudiante.append(input('Ingrese el nombre del estudiante: '))\n",
        "  notas=[]\n",
        "  for k in range(nots): #cantidad de elementos en cada sublista\n",
        "      notas.append(float(input(f'ingrese nota {k+1} del estudiante {i+1}: ')))\n",
        "  prom=sum(notas)/len(notas)\n",
        "  estudiante+=notas\n",
        "  estudiante+=[prom]\n",
        "  estudiantes.append(estudiante)\n",
        "estudiantes\n",
        "\n",
        "\n",
        "\n",
        "\n"
      ],
      "execution_count": null,
      "outputs": [
        {
          "output_type": "stream",
          "text": [
            "ingresar la cantidad de estudiantes a almacenar: 2\n",
            "ingresar la cantidad de notas a relacionar: 2\n",
            "Ingrese el nombre del estudiante: e\n",
            "ingrese nota 1 del estudiante 1: 5\n",
            "ingrese nota 2 del estudiante 1: 6\n",
            "Ingrese el nombre del estudiante: r\n",
            "ingrese nota 1 del estudiante 2: 5\n",
            "ingrese nota 2 del estudiante 2: 5\n"
          ],
          "name": "stdout"
        },
        {
          "output_type": "execute_result",
          "data": {
            "text/plain": [
              "[['e', 5.0, 6.0, 5.5], ['r', 5.0, 5.0, 5.0]]"
            ]
          },
          "metadata": {
            "tags": []
          },
          "execution_count": 74
        }
      ]
    }
  ]
}